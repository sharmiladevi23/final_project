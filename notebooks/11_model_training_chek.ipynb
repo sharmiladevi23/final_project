{
 "cells": [
  {
   "cell_type": "code",
   "execution_count": 1,
   "id": "4aba119e-8624-4c30-ad3c-49759f3f18d4",
   "metadata": {},
   "outputs": [],
   "source": [
    "import sys\n",
    "import os\n",
    "\n",
    "# Add the parent directory to the Python path\n",
    "sys.path.append(os.path.abspath(os.path.join(os.getcwd(), \"..\")))\n",
    "import src.config as config"
   ]
  },
  {
   "cell_type": "code",
   "execution_count": 2,
   "id": "60fe3ee1",
   "metadata": {},
   "outputs": [],
   "source": [
    "import joblib\n",
    "from hsml.model_schema import ModelSchema\n",
    "from hsml.schema import Schema\n",
    "from sklearn.metrics import mean_absolute_error\n",
    "\n",
    "import src.config as config\n",
    "from src.data_utils import transform_ts_data_info_features_and_target\n",
    "from src.inference import (\n",
    "    fetch_days_data,\n",
    "    get_hopsworks_project,\n",
    "    load_metrics_from_registry,\n",
    "    load_model_from_registry,\n",
    ")\n",
    "from src.pipeline_utils import get_pipeline"
   ]
  },
  {
   "cell_type": "code",
   "execution_count": 3,
   "id": "08c3943c",
   "metadata": {},
   "outputs": [],
   "source": [
    "from datetime import datetime, timedelta, timezone\n",
    "from zoneinfo import ZoneInfo\n",
    "import hopsworks\n",
    "import numpy as np\n",
    "import pandas as pd\n",
    "from hsfs.feature_store import FeatureStore\n",
    "\n",
    "import src.config as config\n",
    "from src.data_utils import transform_ts_data_info_features"
   ]
  },
  {
   "cell_type": "code",
   "execution_count": 4,
   "id": "88ad6d4b",
   "metadata": {},
   "outputs": [],
   "source": [
    "def get_feature_store() -> FeatureStore:\n",
    "    project = get_hopsworks_project()\n",
    "    return project.get_feature_store()"
   ]
  },
  {
   "cell_type": "code",
   "execution_count": 5,
   "id": "12703f21",
   "metadata": {},
   "outputs": [],
   "source": [
    "def fetch_days_data(days):\n",
    "    current_date = pd.to_datetime(datetime.now(timezone.utc)).tz_convert(\"America/New_York\")\n",
    "    fetch_data_from = current_date - timedelta(days=(days))\n",
    "    fetch_data_to = current_date - timedelta(days=0)\n",
    "    print(fetch_data_from, fetch_data_to)\n",
    "    print(\"ghcgchcgfc\")\n",
    "    fs = get_feature_store()\n",
    "    fg = fs.get_feature_group(name=config.FEATURE_GROUP_NAME, version=1)\n",
    "\n",
    "    query = fg.select_all()\n",
    "    # query = query.filter((fg.pickup_hour >= fetch_data_from))\n",
    "    df = query.read()\n",
    "    cond = (df[\"pickup_hour\"] >= fetch_data_from) & (df[\"pickup_hour\"] <= fetch_data_to)\n",
    "    print(sum(cond))\n",
    "    return df[cond]\n",
    "    # return df"
   ]
  },
  {
   "cell_type": "code",
   "execution_count": 6,
   "id": "596f748e",
   "metadata": {},
   "outputs": [
    {
     "name": "stdout",
     "output_type": "stream",
     "text": [
      "Fetching data from group store ...\n",
      "2024-11-12 09:26:23.123385-05:00 2025-05-11 10:26:23.123385-04:00\n",
      "ghcgchcgfc\n",
      "2025-05-11 10:26:23,206 INFO: Initializing external client\n",
      "2025-05-11 10:26:23,206 INFO: Base URL: https://c.app.hopsworks.ai:443\n",
      "2025-05-11 10:26:24,050 INFO: Python Engine initialized.\n",
      "\n",
      "Logged in to project, explore it here https://c.app.hopsworks.ai:443/p/1214665\n",
      "Finished: Reading data from Hopsworks, using Hopsworks Feature Query Service (0.61s) \n",
      "55859\n"
     ]
    }
   ],
   "source": [
    "print(f\"Fetching data from group store ...\")\n",
    "ts_data = fetch_days_data(180)"
   ]
  },
  {
   "cell_type": "code",
   "execution_count": 7,
   "id": "d5857504",
   "metadata": {},
   "outputs": [
    {
     "data": {
      "text/html": [
       "<div>\n",
       "<style scoped>\n",
       "    .dataframe tbody tr th:only-of-type {\n",
       "        vertical-align: middle;\n",
       "    }\n",
       "\n",
       "    .dataframe tbody tr th {\n",
       "        vertical-align: top;\n",
       "    }\n",
       "\n",
       "    .dataframe thead th {\n",
       "        text-align: right;\n",
       "    }\n",
       "</style>\n",
       "<table border=\"1\" class=\"dataframe\">\n",
       "  <thead>\n",
       "    <tr style=\"text-align: right;\">\n",
       "      <th></th>\n",
       "      <th>pickup_hour</th>\n",
       "      <th>pickup_location_id</th>\n",
       "      <th>rides</th>\n",
       "    </tr>\n",
       "  </thead>\n",
       "  <tbody>\n",
       "    <tr>\n",
       "      <th>0</th>\n",
       "      <td>2025-05-06 14:00:00+00:00</td>\n",
       "      <td>HB305</td>\n",
       "      <td>0</td>\n",
       "    </tr>\n",
       "    <tr>\n",
       "      <th>1</th>\n",
       "      <td>2025-04-26 09:00:00+00:00</td>\n",
       "      <td>HB608</td>\n",
       "      <td>0</td>\n",
       "    </tr>\n",
       "    <tr>\n",
       "      <th>2</th>\n",
       "      <td>2025-04-23 08:00:00+00:00</td>\n",
       "      <td>HB608</td>\n",
       "      <td>0</td>\n",
       "    </tr>\n",
       "    <tr>\n",
       "      <th>3</th>\n",
       "      <td>2025-04-24 19:00:00+00:00</td>\n",
       "      <td>JC023</td>\n",
       "      <td>0</td>\n",
       "    </tr>\n",
       "    <tr>\n",
       "      <th>4</th>\n",
       "      <td>2025-05-07 08:00:00+00:00</td>\n",
       "      <td>JC035</td>\n",
       "      <td>0</td>\n",
       "    </tr>\n",
       "    <tr>\n",
       "      <th>...</th>\n",
       "      <td>...</td>\n",
       "      <td>...</td>\n",
       "      <td>...</td>\n",
       "    </tr>\n",
       "    <tr>\n",
       "      <th>55854</th>\n",
       "      <td>2025-04-18 09:00:00+00:00</td>\n",
       "      <td>JC115</td>\n",
       "      <td>0</td>\n",
       "    </tr>\n",
       "    <tr>\n",
       "      <th>55855</th>\n",
       "      <td>2025-05-08 00:00:00+00:00</td>\n",
       "      <td>JC018</td>\n",
       "      <td>1</td>\n",
       "    </tr>\n",
       "    <tr>\n",
       "      <th>55856</th>\n",
       "      <td>2025-04-22 09:00:00+00:00</td>\n",
       "      <td>HB611</td>\n",
       "      <td>0</td>\n",
       "    </tr>\n",
       "    <tr>\n",
       "      <th>55857</th>\n",
       "      <td>2025-04-28 19:00:00+00:00</td>\n",
       "      <td>HB304</td>\n",
       "      <td>0</td>\n",
       "    </tr>\n",
       "    <tr>\n",
       "      <th>55858</th>\n",
       "      <td>2025-05-07 23:00:00+00:00</td>\n",
       "      <td>JC074</td>\n",
       "      <td>0</td>\n",
       "    </tr>\n",
       "  </tbody>\n",
       "</table>\n",
       "<p>55859 rows × 3 columns</p>\n",
       "</div>"
      ],
      "text/plain": [
       "                    pickup_hour pickup_location_id  rides\n",
       "0     2025-05-06 14:00:00+00:00              HB305      0\n",
       "1     2025-04-26 09:00:00+00:00              HB608      0\n",
       "2     2025-04-23 08:00:00+00:00              HB608      0\n",
       "3     2025-04-24 19:00:00+00:00              JC023      0\n",
       "4     2025-05-07 08:00:00+00:00              JC035      0\n",
       "...                         ...                ...    ...\n",
       "55854 2025-04-18 09:00:00+00:00              JC115      0\n",
       "55855 2025-05-08 00:00:00+00:00              JC018      1\n",
       "55856 2025-04-22 09:00:00+00:00              HB611      0\n",
       "55857 2025-04-28 19:00:00+00:00              HB304      0\n",
       "55858 2025-05-07 23:00:00+00:00              JC074      0\n",
       "\n",
       "[55859 rows x 3 columns]"
      ]
     },
     "execution_count": 7,
     "metadata": {},
     "output_type": "execute_result"
    }
   ],
   "source": [
    "ts_data"
   ]
  }
 ],
 "metadata": {
  "kernelspec": {
   "display_name": "base",
   "language": "python",
   "name": "python3"
  },
  "language_info": {
   "codemirror_mode": {
    "name": "ipython",
    "version": 3
   },
   "file_extension": ".py",
   "mimetype": "text/x-python",
   "name": "python",
   "nbconvert_exporter": "python",
   "pygments_lexer": "ipython3",
   "version": "3.11.8"
  }
 },
 "nbformat": 4,
 "nbformat_minor": 5
}
