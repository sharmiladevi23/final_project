{
 "cells": [
  {
   "cell_type": "markdown",
   "id": "6f476cb6-bf4f-4242-9d61-2bb2465f2920",
   "metadata": {},
   "source": [
    "## Steps\n",
    "1. Download all raw data for a given year and month\n",
    "1. For each raw data, apply the filter before saving it\n",
    "1. Transform the saved raw data into TS data\n",
    "1. Convert the ts data into features and targets\n",
    "1. Save the transformed data\n",
    "\n",
    "\n",
    "Main objective is to write utility functions to do all these things so we can reuse them later. "
   ]
  },
  {
   "cell_type": "code",
   "execution_count": 18,
   "id": "6f98128f-2321-4869-9ea9-e1071baaf8c4",
   "metadata": {},
   "outputs": [
    {
     "name": "stdout",
     "output_type": "stream",
     "text": [
      "The autoreload extension is already loaded. To reload it, use:\n",
      "  %reload_ext autoreload\n"
     ]
    }
   ],
   "source": [
    "%load_ext autoreload\n",
    "%autoreload 2"
   ]
  },
  {
   "cell_type": "code",
   "execution_count": 19,
   "id": "a15f5136",
   "metadata": {},
   "outputs": [
    {
     "data": {
      "text/plain": [
       "'/Users/sharmilamanoj/Documents/CDA/final_project'"
      ]
     },
     "execution_count": 19,
     "metadata": {},
     "output_type": "execute_result"
    }
   ],
   "source": [
    "import sys\n",
    "import os\n",
    "os.path.abspath(os.path.join(os.getcwd(), \"..\"))"
   ]
  },
  {
   "cell_type": "code",
   "execution_count": 20,
   "id": "74b31479-65d1-4988-8b24-a8865a270e4e",
   "metadata": {},
   "outputs": [],
   "source": [
    "import sys\n",
    "import os\n",
    "\n",
    "# Add the parent directory to the Python path\n",
    "sys.path.append(os.path.abspath(os.path.join(os.getcwd(), \"..\")))\n",
    "\n",
    "# Now you can import from src\n",
    "from src.data_utils import load_and_process_bike_data"
   ]
  },
  {
   "cell_type": "code",
   "execution_count": 21,
   "id": "05f1284a-f013-4a39-971f-f3dec0d49ba9",
   "metadata": {},
   "outputs": [
    {
     "name": "stdout",
     "output_type": "stream",
     "text": [
      "File already exists for 2023-01.\n",
      "Loading data for 2023-01...\n"
     ]
    },
    {
     "name": "stderr",
     "output_type": "stream",
     "text": [
      "/Users/sharmilamanoj/Documents/CDA/final_project/src/data_utils.py:98: UserWarning: This pattern is interpreted as a regular expression, and has match groups. To actually get the groups, use str.extract.\n",
      "  location_filter = ~rides[\"start_station_id\"].astype(str).str.contains(r'^\\d+(\\.\\d+)?$', regex=True)\n"
     ]
    },
    {
     "name": "stdout",
     "output_type": "stream",
     "text": [
      "Total records: 56,075\n",
      "Valid records: 56,013\n",
      "Records dropped: 62 (0.11%)\n",
      "Successfully processed data for 2023-01.\n",
      "File already exists for 2023-02.\n",
      "Loading data for 2023-02...\n"
     ]
    },
    {
     "name": "stderr",
     "output_type": "stream",
     "text": [
      "/Users/sharmilamanoj/Documents/CDA/final_project/src/data_utils.py:98: UserWarning: This pattern is interpreted as a regular expression, and has match groups. To actually get the groups, use str.extract.\n",
      "  location_filter = ~rides[\"start_station_id\"].astype(str).str.contains(r'^\\d+(\\.\\d+)?$', regex=True)\n"
     ]
    },
    {
     "name": "stdout",
     "output_type": "stream",
     "text": [
      "Total records: 51,213\n",
      "Valid records: 51,173\n",
      "Records dropped: 40 (0.08%)\n",
      "Successfully processed data for 2023-02.\n",
      "File already exists for 2023-03.\n",
      "Loading data for 2023-03...\n"
     ]
    },
    {
     "name": "stderr",
     "output_type": "stream",
     "text": [
      "/Users/sharmilamanoj/Documents/CDA/final_project/src/data_utils.py:98: UserWarning: This pattern is interpreted as a regular expression, and has match groups. To actually get the groups, use str.extract.\n",
      "  location_filter = ~rides[\"start_station_id\"].astype(str).str.contains(r'^\\d+(\\.\\d+)?$', regex=True)\n"
     ]
    },
    {
     "name": "stdout",
     "output_type": "stream",
     "text": [
      "Total records: 63,072\n",
      "Valid records: 63,009\n",
      "Records dropped: 63 (0.10%)\n",
      "Successfully processed data for 2023-03.\n",
      "File already exists for 2023-04.\n",
      "Loading data for 2023-04...\n"
     ]
    },
    {
     "name": "stderr",
     "output_type": "stream",
     "text": [
      "/Users/sharmilamanoj/Documents/CDA/final_project/src/data_utils.py:98: UserWarning: This pattern is interpreted as a regular expression, and has match groups. To actually get the groups, use str.extract.\n",
      "  location_filter = ~rides[\"start_station_id\"].astype(str).str.contains(r'^\\d+(\\.\\d+)?$', regex=True)\n"
     ]
    },
    {
     "name": "stdout",
     "output_type": "stream",
     "text": [
      "Total records: 80,688\n",
      "Valid records: 80,605\n",
      "Records dropped: 83 (0.10%)\n",
      "Successfully processed data for 2023-04.\n",
      "File already exists for 2023-05.\n",
      "Loading data for 2023-05...\n"
     ]
    },
    {
     "name": "stderr",
     "output_type": "stream",
     "text": [
      "/Users/sharmilamanoj/Documents/CDA/final_project/src/data_utils.py:98: UserWarning: This pattern is interpreted as a regular expression, and has match groups. To actually get the groups, use str.extract.\n",
      "  location_filter = ~rides[\"start_station_id\"].astype(str).str.contains(r'^\\d+(\\.\\d+)?$', regex=True)\n"
     ]
    },
    {
     "name": "stdout",
     "output_type": "stream",
     "text": [
      "Total records: 96,002\n",
      "Valid records: 95,761\n",
      "Records dropped: 241 (0.25%)\n",
      "Successfully processed data for 2023-05.\n",
      "File already exists for 2023-06.\n",
      "Loading data for 2023-06...\n"
     ]
    },
    {
     "name": "stderr",
     "output_type": "stream",
     "text": [
      "/Users/sharmilamanoj/Documents/CDA/final_project/src/data_utils.py:98: UserWarning: This pattern is interpreted as a regular expression, and has match groups. To actually get the groups, use str.extract.\n",
      "  location_filter = ~rides[\"start_station_id\"].astype(str).str.contains(r'^\\d+(\\.\\d+)?$', regex=True)\n"
     ]
    },
    {
     "name": "stdout",
     "output_type": "stream",
     "text": [
      "Total records: 97,023\n",
      "Valid records: 96,863\n",
      "Records dropped: 160 (0.16%)\n",
      "Successfully processed data for 2023-06.\n",
      "File already exists for 2023-07.\n",
      "Loading data for 2023-07...\n"
     ]
    },
    {
     "name": "stderr",
     "output_type": "stream",
     "text": [
      "/Users/sharmilamanoj/Documents/CDA/final_project/src/data_utils.py:98: UserWarning: This pattern is interpreted as a regular expression, and has match groups. To actually get the groups, use str.extract.\n",
      "  location_filter = ~rides[\"start_station_id\"].astype(str).str.contains(r'^\\d+(\\.\\d+)?$', regex=True)\n"
     ]
    },
    {
     "name": "stdout",
     "output_type": "stream",
     "text": [
      "Total records: 106,608\n",
      "Valid records: 106,452\n",
      "Records dropped: 156 (0.15%)\n",
      "Successfully processed data for 2023-07.\n",
      "File already exists for 2023-08.\n",
      "Loading data for 2023-08...\n"
     ]
    },
    {
     "name": "stderr",
     "output_type": "stream",
     "text": [
      "/Users/sharmilamanoj/Documents/CDA/final_project/src/data_utils.py:98: UserWarning: This pattern is interpreted as a regular expression, and has match groups. To actually get the groups, use str.extract.\n",
      "  location_filter = ~rides[\"start_station_id\"].astype(str).str.contains(r'^\\d+(\\.\\d+)?$', regex=True)\n"
     ]
    },
    {
     "name": "stdout",
     "output_type": "stream",
     "text": [
      "Total records: 112,027\n",
      "Valid records: 111,867\n",
      "Records dropped: 160 (0.14%)\n",
      "Successfully processed data for 2023-08.\n",
      "File already exists for 2023-09.\n",
      "Loading data for 2023-09...\n"
     ]
    },
    {
     "name": "stderr",
     "output_type": "stream",
     "text": [
      "/Users/sharmilamanoj/Documents/CDA/final_project/src/data_utils.py:98: UserWarning: This pattern is interpreted as a regular expression, and has match groups. To actually get the groups, use str.extract.\n",
      "  location_filter = ~rides[\"start_station_id\"].astype(str).str.contains(r'^\\d+(\\.\\d+)?$', regex=True)\n"
     ]
    },
    {
     "name": "stdout",
     "output_type": "stream",
     "text": [
      "Total records: 94,233\n",
      "Valid records: 94,084\n",
      "Records dropped: 149 (0.16%)\n",
      "Successfully processed data for 2023-09.\n",
      "File already exists for 2023-10.\n",
      "Loading data for 2023-10...\n"
     ]
    },
    {
     "name": "stderr",
     "output_type": "stream",
     "text": [
      "/Users/sharmilamanoj/Documents/CDA/final_project/src/data_utils.py:98: UserWarning: This pattern is interpreted as a regular expression, and has match groups. To actually get the groups, use str.extract.\n",
      "  location_filter = ~rides[\"start_station_id\"].astype(str).str.contains(r'^\\d+(\\.\\d+)?$', regex=True)\n"
     ]
    },
    {
     "name": "stdout",
     "output_type": "stream",
     "text": [
      "Total records: 97,584\n",
      "Valid records: 97,456\n",
      "Records dropped: 128 (0.13%)\n",
      "Successfully processed data for 2023-10.\n",
      "File already exists for 2023-11.\n",
      "Loading data for 2023-11...\n"
     ]
    },
    {
     "name": "stderr",
     "output_type": "stream",
     "text": [
      "/Users/sharmilamanoj/Documents/CDA/final_project/src/data_utils.py:98: UserWarning: This pattern is interpreted as a regular expression, and has match groups. To actually get the groups, use str.extract.\n",
      "  location_filter = ~rides[\"start_station_id\"].astype(str).str.contains(r'^\\d+(\\.\\d+)?$', regex=True)\n"
     ]
    },
    {
     "name": "stdout",
     "output_type": "stream",
     "text": [
      "Total records: 75,646\n",
      "Valid records: 75,588\n",
      "Records dropped: 58 (0.08%)\n",
      "Successfully processed data for 2023-11.\n",
      "File already exists for 2023-12.\n",
      "Loading data for 2023-12...\n",
      "Total records: 58,680\n",
      "Valid records: 58,596\n",
      "Records dropped: 84 (0.14%)\n",
      "Successfully processed data for 2023-12.\n",
      "Combining all monthly data...\n",
      "Data loading and processing complete!\n"
     ]
    },
    {
     "name": "stderr",
     "output_type": "stream",
     "text": [
      "/Users/sharmilamanoj/Documents/CDA/final_project/src/data_utils.py:98: UserWarning: This pattern is interpreted as a regular expression, and has match groups. To actually get the groups, use str.extract.\n",
      "  location_filter = ~rides[\"start_station_id\"].astype(str).str.contains(r'^\\d+(\\.\\d+)?$', regex=True)\n"
     ]
    }
   ],
   "source": [
    "rides = load_and_process_bike_data(year=2023)"
   ]
  },
  {
   "cell_type": "code",
   "execution_count": 22,
   "id": "dc4d2a54-f3eb-4772-b568-9c2f1045c08c",
   "metadata": {},
   "outputs": [
    {
     "data": {
      "text/html": [
       "<div>\n",
       "<style scoped>\n",
       "    .dataframe tbody tr th:only-of-type {\n",
       "        vertical-align: middle;\n",
       "    }\n",
       "\n",
       "    .dataframe tbody tr th {\n",
       "        vertical-align: top;\n",
       "    }\n",
       "\n",
       "    .dataframe thead th {\n",
       "        text-align: right;\n",
       "    }\n",
       "</style>\n",
       "<table border=\"1\" class=\"dataframe\">\n",
       "  <thead>\n",
       "    <tr style=\"text-align: right;\">\n",
       "      <th></th>\n",
       "      <th>pickup_datetime</th>\n",
       "      <th>pickup_location_id</th>\n",
       "    </tr>\n",
       "  </thead>\n",
       "  <tbody>\n",
       "    <tr>\n",
       "      <th>0</th>\n",
       "      <td>2023-01-01 00:06:36</td>\n",
       "      <td>JC102</td>\n",
       "    </tr>\n",
       "    <tr>\n",
       "      <th>1</th>\n",
       "      <td>2023-01-01 00:07:48</td>\n",
       "      <td>JC098</td>\n",
       "    </tr>\n",
       "    <tr>\n",
       "      <th>2</th>\n",
       "      <td>2023-01-01 00:10:11</td>\n",
       "      <td>JC002</td>\n",
       "    </tr>\n",
       "    <tr>\n",
       "      <th>3</th>\n",
       "      <td>2023-01-01 00:10:12</td>\n",
       "      <td>JC103</td>\n",
       "    </tr>\n",
       "    <tr>\n",
       "      <th>4</th>\n",
       "      <td>2023-01-01 00:15:26</td>\n",
       "      <td>HB402</td>\n",
       "    </tr>\n",
       "    <tr>\n",
       "      <th>...</th>\n",
       "      <td>...</td>\n",
       "      <td>...</td>\n",
       "    </tr>\n",
       "    <tr>\n",
       "      <th>987462</th>\n",
       "      <td>2023-12-31 23:49:41</td>\n",
       "      <td>JC078</td>\n",
       "    </tr>\n",
       "    <tr>\n",
       "      <th>987463</th>\n",
       "      <td>2023-12-31 23:49:44</td>\n",
       "      <td>JC078</td>\n",
       "    </tr>\n",
       "    <tr>\n",
       "      <th>987464</th>\n",
       "      <td>2023-12-31 23:50:04</td>\n",
       "      <td>HB608</td>\n",
       "    </tr>\n",
       "    <tr>\n",
       "      <th>987465</th>\n",
       "      <td>2023-12-31 23:52:52</td>\n",
       "      <td>JC023</td>\n",
       "    </tr>\n",
       "    <tr>\n",
       "      <th>987466</th>\n",
       "      <td>2023-12-31 23:59:57</td>\n",
       "      <td>JC109</td>\n",
       "    </tr>\n",
       "  </tbody>\n",
       "</table>\n",
       "<p>987467 rows × 2 columns</p>\n",
       "</div>"
      ],
      "text/plain": [
       "           pickup_datetime pickup_location_id\n",
       "0      2023-01-01 00:06:36              JC102\n",
       "1      2023-01-01 00:07:48              JC098\n",
       "2      2023-01-01 00:10:11              JC002\n",
       "3      2023-01-01 00:10:12              JC103\n",
       "4      2023-01-01 00:15:26              HB402\n",
       "...                    ...                ...\n",
       "987462 2023-12-31 23:49:41              JC078\n",
       "987463 2023-12-31 23:49:44              JC078\n",
       "987464 2023-12-31 23:50:04              HB608\n",
       "987465 2023-12-31 23:52:52              JC023\n",
       "987466 2023-12-31 23:59:57              JC109\n",
       "\n",
       "[987467 rows x 2 columns]"
      ]
     },
     "execution_count": 22,
     "metadata": {},
     "output_type": "execute_result"
    }
   ],
   "source": [
    "rides"
   ]
  },
  {
   "cell_type": "code",
   "execution_count": 23,
   "id": "f541e651",
   "metadata": {},
   "outputs": [],
   "source": [
    "rides_cp = rides.copy()"
   ]
  },
  {
   "cell_type": "code",
   "execution_count": 24,
   "id": "a844664c",
   "metadata": {},
   "outputs": [
    {
     "name": "stdout",
     "output_type": "stream",
     "text": [
      "<class 'pandas.core.frame.DataFrame'>\n",
      "RangeIndex: 987467 entries, 0 to 987466\n",
      "Data columns (total 2 columns):\n",
      " #   Column              Non-Null Count   Dtype         \n",
      "---  ------              --------------   -----         \n",
      " 0   pickup_datetime     987467 non-null  datetime64[ns]\n",
      " 1   pickup_location_id  987383 non-null  object        \n",
      "dtypes: datetime64[ns](1), object(1)\n",
      "memory usage: 15.1+ MB\n"
     ]
    }
   ],
   "source": [
    "rides.info()"
   ]
  },
  {
   "cell_type": "code",
   "execution_count": 25,
   "id": "e8ed6f1d",
   "metadata": {},
   "outputs": [
    {
     "data": {
      "text/plain": [
       "array(['JC102', 'JC098', 'JC002', 'JC103', 'HB402', 'JC104', 'JC008',\n",
       "       'HB303', 'HB102', 'HB507', 'HB407', 'HB101', 'HB202', 'JC024',\n",
       "       'HB603', 'HB607', 'JC051', 'JC066', 'HB401', 'HB302', 'JC109',\n",
       "       'HB304', 'HB105', 'JC006', 'JC106', 'HB103', 'JC014', 'JC105',\n",
       "       'HB203', 'JC003', 'JC035', 'HB502', 'HB305', 'HB409', 'JC032',\n",
       "       'HB602', 'JC022', 'HB301', 'JC115', 'JC110', 'HB201', 'HB506',\n",
       "       'JC019', 'JC059', 'HB404', 'JC055', 'JC077', 'HB601', 'JC080',\n",
       "       'JC038', 'JC099', 'JC057', 'JC052', 'JC093', 'JC020', 'JC065',\n",
       "       'JC107', 'JC095', 'JC023', 'JC072', 'JC094', 'JC076', 'JC034',\n",
       "       'JC074', 'JC082', 'JC078', 'JC009', 'HB408', 'HB503', 'JC013',\n",
       "       'HB505', 'JC081', 'JC063', 'JC108', 'JC075', 'JC018', 'JC097',\n",
       "       'JC084', 'JC027', 'JC053', 'HB501', 'HB608', 'JC116', nan, 'HB609',\n",
       "       'HB610', 'HB611'], dtype=object)"
      ]
     },
     "execution_count": 25,
     "metadata": {},
     "output_type": "execute_result"
    }
   ],
   "source": [
    "rides['pickup_location_id'].unique()"
   ]
  },
  {
   "cell_type": "code",
   "execution_count": 26,
   "id": "ffe23019",
   "metadata": {},
   "outputs": [
    {
     "data": {
      "text/html": [
       "<div>\n",
       "<style scoped>\n",
       "    .dataframe tbody tr th:only-of-type {\n",
       "        vertical-align: middle;\n",
       "    }\n",
       "\n",
       "    .dataframe tbody tr th {\n",
       "        vertical-align: top;\n",
       "    }\n",
       "\n",
       "    .dataframe thead th {\n",
       "        text-align: right;\n",
       "    }\n",
       "</style>\n",
       "<table border=\"1\" class=\"dataframe\">\n",
       "  <thead>\n",
       "    <tr style=\"text-align: right;\">\n",
       "      <th></th>\n",
       "      <th>pickup_datetime</th>\n",
       "      <th>pickup_location_id</th>\n",
       "    </tr>\n",
       "  </thead>\n",
       "  <tbody>\n",
       "    <tr>\n",
       "      <th>0</th>\n",
       "      <td>2023-01-01 00:06:36</td>\n",
       "      <td>JC102</td>\n",
       "    </tr>\n",
       "    <tr>\n",
       "      <th>1</th>\n",
       "      <td>2023-01-01 00:07:48</td>\n",
       "      <td>JC098</td>\n",
       "    </tr>\n",
       "    <tr>\n",
       "      <th>2</th>\n",
       "      <td>2023-01-01 00:10:11</td>\n",
       "      <td>JC002</td>\n",
       "    </tr>\n",
       "    <tr>\n",
       "      <th>3</th>\n",
       "      <td>2023-01-01 00:10:12</td>\n",
       "      <td>JC103</td>\n",
       "    </tr>\n",
       "    <tr>\n",
       "      <th>4</th>\n",
       "      <td>2023-01-01 00:15:26</td>\n",
       "      <td>HB402</td>\n",
       "    </tr>\n",
       "    <tr>\n",
       "      <th>...</th>\n",
       "      <td>...</td>\n",
       "      <td>...</td>\n",
       "    </tr>\n",
       "    <tr>\n",
       "      <th>987462</th>\n",
       "      <td>2023-12-31 23:49:41</td>\n",
       "      <td>JC078</td>\n",
       "    </tr>\n",
       "    <tr>\n",
       "      <th>987463</th>\n",
       "      <td>2023-12-31 23:49:44</td>\n",
       "      <td>JC078</td>\n",
       "    </tr>\n",
       "    <tr>\n",
       "      <th>987464</th>\n",
       "      <td>2023-12-31 23:50:04</td>\n",
       "      <td>HB608</td>\n",
       "    </tr>\n",
       "    <tr>\n",
       "      <th>987465</th>\n",
       "      <td>2023-12-31 23:52:52</td>\n",
       "      <td>JC023</td>\n",
       "    </tr>\n",
       "    <tr>\n",
       "      <th>987466</th>\n",
       "      <td>2023-12-31 23:59:57</td>\n",
       "      <td>JC109</td>\n",
       "    </tr>\n",
       "  </tbody>\n",
       "</table>\n",
       "<p>987467 rows × 2 columns</p>\n",
       "</div>"
      ],
      "text/plain": [
       "           pickup_datetime pickup_location_id\n",
       "0      2023-01-01 00:06:36              JC102\n",
       "1      2023-01-01 00:07:48              JC098\n",
       "2      2023-01-01 00:10:11              JC002\n",
       "3      2023-01-01 00:10:12              JC103\n",
       "4      2023-01-01 00:15:26              HB402\n",
       "...                    ...                ...\n",
       "987462 2023-12-31 23:49:41              JC078\n",
       "987463 2023-12-31 23:49:44              JC078\n",
       "987464 2023-12-31 23:50:04              HB608\n",
       "987465 2023-12-31 23:52:52              JC023\n",
       "987466 2023-12-31 23:59:57              JC109\n",
       "\n",
       "[987467 rows x 2 columns]"
      ]
     },
     "execution_count": 26,
     "metadata": {},
     "output_type": "execute_result"
    }
   ],
   "source": [
    "rides"
   ]
  },
  {
   "cell_type": "code",
   "execution_count": null,
   "id": "9a2fb2de",
   "metadata": {},
   "outputs": [],
   "source": []
  },
  {
   "cell_type": "code",
   "execution_count": 38,
   "id": "94929fb2",
   "metadata": {},
   "outputs": [],
   "source": [
    "rides_loc = rides[rides[\"pickup_location_id\"] == loc_id].copy()\n",
    "\n",
    "ts_data = transform_raw_data_into_ts_data(rides_loc, interval_hours=1)\n"
   ]
  },
  {
   "cell_type": "code",
   "execution_count": 41,
   "id": "3cb45d0a",
   "metadata": {},
   "outputs": [],
   "source": [
    "import pandas as pd"
   ]
  },
  {
   "cell_type": "code",
   "execution_count": 52,
   "id": "f6fcaf71",
   "metadata": {},
   "outputs": [
    {
     "name": "stdout",
     "output_type": "stream",
     "text": [
      "🚴 Processing location: JC115\n",
      "🚴 Processing location: HB102\n",
      "🚴 Processing location: HB103\n"
     ]
    }
   ],
   "source": [
    "top_locations = rides[\"pickup_location_id\"].value_counts().head(3).index.tolist()\n",
    "\n",
    "all_tabular = []\n",
    "\n",
    "for loc in top_locations:\n",
    "    print(f\"🚴 Processing location: {loc}\")\n",
    "    \n",
    "    # ✅ Step 1: Filter the rides for just that location\n",
    "    rides_loc = rides[rides[\"pickup_location_id\"] == loc].copy()\n",
    "    \n",
    "    # ✅ Step 2: Pass interval_hours=1 (not loc) to the function\n",
    "    ts_data = transform_raw_data_into_ts_data(rides_loc, interval_hours=1)\n",
    "    \n",
    "    # ✅ Step 3: Feature and target transformation\n",
    "    features, targets = transform_ts_data_info_features_and_target(ts_data, window_size=24*28, step_size=12)\n",
    "\n",
    "    df = features.copy()\n",
    "    df[\"target\"] = targets\n",
    "    df[\"pickup_location_id\"] = loc\n",
    "    all_tabular.append(df)\n",
    "\n",
    "# ✅ Step 4: Combine and save\n",
    "tabular_data = pd.concat(all_tabular, ignore_index=True)\n"
   ]
  },
  {
   "cell_type": "code",
   "execution_count": 49,
   "id": "ab53be54-9c14-4462-86e2-db2ea08eba8e",
   "metadata": {},
   "outputs": [],
   "source": [
    "# from src.data_utils import transform_raw_data_into_ts_data\n",
    "\n",
    "# ts_data = transform_raw_data_into_ts_data(rides,6)\n",
    "# ts_data.head()"
   ]
  },
  {
   "cell_type": "code",
   "execution_count": 53,
   "id": "acadfe17",
   "metadata": {},
   "outputs": [
    {
     "data": {
      "text/html": [
       "<div>\n",
       "<style scoped>\n",
       "    .dataframe tbody tr th:only-of-type {\n",
       "        vertical-align: middle;\n",
       "    }\n",
       "\n",
       "    .dataframe tbody tr th {\n",
       "        vertical-align: top;\n",
       "    }\n",
       "\n",
       "    .dataframe thead th {\n",
       "        text-align: right;\n",
       "    }\n",
       "</style>\n",
       "<table border=\"1\" class=\"dataframe\">\n",
       "  <thead>\n",
       "    <tr style=\"text-align: right;\">\n",
       "      <th></th>\n",
       "      <th>pickup_hour</th>\n",
       "      <th>pickup_location_id</th>\n",
       "      <th>rides</th>\n",
       "    </tr>\n",
       "  </thead>\n",
       "  <tbody>\n",
       "    <tr>\n",
       "      <th>8754</th>\n",
       "      <td>2023-12-31 19:00:00</td>\n",
       "      <td>HB103</td>\n",
       "      <td>0</td>\n",
       "    </tr>\n",
       "    <tr>\n",
       "      <th>8755</th>\n",
       "      <td>2023-12-31 20:00:00</td>\n",
       "      <td>HB103</td>\n",
       "      <td>0</td>\n",
       "    </tr>\n",
       "    <tr>\n",
       "      <th>8756</th>\n",
       "      <td>2023-12-31 21:00:00</td>\n",
       "      <td>HB103</td>\n",
       "      <td>0</td>\n",
       "    </tr>\n",
       "    <tr>\n",
       "      <th>8757</th>\n",
       "      <td>2023-12-31 22:00:00</td>\n",
       "      <td>HB103</td>\n",
       "      <td>0</td>\n",
       "    </tr>\n",
       "    <tr>\n",
       "      <th>8758</th>\n",
       "      <td>2023-12-31 23:00:00</td>\n",
       "      <td>HB103</td>\n",
       "      <td>1</td>\n",
       "    </tr>\n",
       "  </tbody>\n",
       "</table>\n",
       "</div>"
      ],
      "text/plain": [
       "             pickup_hour pickup_location_id  rides\n",
       "8754 2023-12-31 19:00:00              HB103      0\n",
       "8755 2023-12-31 20:00:00              HB103      0\n",
       "8756 2023-12-31 21:00:00              HB103      0\n",
       "8757 2023-12-31 22:00:00              HB103      0\n",
       "8758 2023-12-31 23:00:00              HB103      1"
      ]
     },
     "execution_count": 53,
     "metadata": {},
     "output_type": "execute_result"
    }
   ],
   "source": [
    "ts_data.tail()"
   ]
  },
  {
   "cell_type": "code",
   "execution_count": 54,
   "id": "7d3d4eca",
   "metadata": {},
   "outputs": [
    {
     "data": {
      "text/html": [
       "<div>\n",
       "<style scoped>\n",
       "    .dataframe tbody tr th:only-of-type {\n",
       "        vertical-align: middle;\n",
       "    }\n",
       "\n",
       "    .dataframe tbody tr th {\n",
       "        vertical-align: top;\n",
       "    }\n",
       "\n",
       "    .dataframe thead th {\n",
       "        text-align: right;\n",
       "    }\n",
       "</style>\n",
       "<table border=\"1\" class=\"dataframe\">\n",
       "  <thead>\n",
       "    <tr style=\"text-align: right;\">\n",
       "      <th></th>\n",
       "      <th>pickup_hour</th>\n",
       "      <th>pickup_location_id</th>\n",
       "      <th>rides</th>\n",
       "    </tr>\n",
       "  </thead>\n",
       "  <tbody>\n",
       "    <tr>\n",
       "      <th>0</th>\n",
       "      <td>2023-01-01 01:00:00</td>\n",
       "      <td>HB103</td>\n",
       "      <td>6</td>\n",
       "    </tr>\n",
       "    <tr>\n",
       "      <th>1</th>\n",
       "      <td>2023-01-01 02:00:00</td>\n",
       "      <td>HB103</td>\n",
       "      <td>9</td>\n",
       "    </tr>\n",
       "    <tr>\n",
       "      <th>2</th>\n",
       "      <td>2023-01-01 03:00:00</td>\n",
       "      <td>HB103</td>\n",
       "      <td>0</td>\n",
       "    </tr>\n",
       "    <tr>\n",
       "      <th>3</th>\n",
       "      <td>2023-01-01 04:00:00</td>\n",
       "      <td>HB103</td>\n",
       "      <td>0</td>\n",
       "    </tr>\n",
       "    <tr>\n",
       "      <th>4</th>\n",
       "      <td>2023-01-01 05:00:00</td>\n",
       "      <td>HB103</td>\n",
       "      <td>3</td>\n",
       "    </tr>\n",
       "    <tr>\n",
       "      <th>...</th>\n",
       "      <td>...</td>\n",
       "      <td>...</td>\n",
       "      <td>...</td>\n",
       "    </tr>\n",
       "    <tr>\n",
       "      <th>8754</th>\n",
       "      <td>2023-12-31 19:00:00</td>\n",
       "      <td>HB103</td>\n",
       "      <td>0</td>\n",
       "    </tr>\n",
       "    <tr>\n",
       "      <th>8755</th>\n",
       "      <td>2023-12-31 20:00:00</td>\n",
       "      <td>HB103</td>\n",
       "      <td>0</td>\n",
       "    </tr>\n",
       "    <tr>\n",
       "      <th>8756</th>\n",
       "      <td>2023-12-31 21:00:00</td>\n",
       "      <td>HB103</td>\n",
       "      <td>0</td>\n",
       "    </tr>\n",
       "    <tr>\n",
       "      <th>8757</th>\n",
       "      <td>2023-12-31 22:00:00</td>\n",
       "      <td>HB103</td>\n",
       "      <td>0</td>\n",
       "    </tr>\n",
       "    <tr>\n",
       "      <th>8758</th>\n",
       "      <td>2023-12-31 23:00:00</td>\n",
       "      <td>HB103</td>\n",
       "      <td>1</td>\n",
       "    </tr>\n",
       "  </tbody>\n",
       "</table>\n",
       "<p>8759 rows × 3 columns</p>\n",
       "</div>"
      ],
      "text/plain": [
       "             pickup_hour pickup_location_id  rides\n",
       "0    2023-01-01 01:00:00              HB103      6\n",
       "1    2023-01-01 02:00:00              HB103      9\n",
       "2    2023-01-01 03:00:00              HB103      0\n",
       "3    2023-01-01 04:00:00              HB103      0\n",
       "4    2023-01-01 05:00:00              HB103      3\n",
       "...                  ...                ...    ...\n",
       "8754 2023-12-31 19:00:00              HB103      0\n",
       "8755 2023-12-31 20:00:00              HB103      0\n",
       "8756 2023-12-31 21:00:00              HB103      0\n",
       "8757 2023-12-31 22:00:00              HB103      0\n",
       "8758 2023-12-31 23:00:00              HB103      1\n",
       "\n",
       "[8759 rows x 3 columns]"
      ]
     },
     "execution_count": 54,
     "metadata": {},
     "output_type": "execute_result"
    }
   ],
   "source": [
    "ts_data"
   ]
  },
  {
   "cell_type": "code",
   "execution_count": 55,
   "id": "d0a828be",
   "metadata": {},
   "outputs": [
    {
     "data": {
      "text/plain": [
       "array(['HB103'], dtype=object)"
      ]
     },
     "execution_count": 55,
     "metadata": {},
     "output_type": "execute_result"
    }
   ],
   "source": [
    "ts_data['pickup_location_id'].unique()"
   ]
  },
  {
   "cell_type": "code",
   "execution_count": 57,
   "id": "81564daa-a5b3-4dab-bf47-4c15685c7185",
   "metadata": {},
   "outputs": [
    {
     "data": {
      "text/plain": [
       "(8759, 3)"
      ]
     },
     "execution_count": 57,
     "metadata": {},
     "output_type": "execute_result"
    }
   ],
   "source": [
    "ts_data.shape"
   ]
  },
  {
   "cell_type": "code",
   "execution_count": 58,
   "id": "e2f6012e",
   "metadata": {},
   "outputs": [
    {
     "data": {
      "text/plain": [
       "(8759, 3)"
      ]
     },
     "execution_count": 58,
     "metadata": {},
     "output_type": "execute_result"
    }
   ],
   "source": [
    "ts_data.shape"
   ]
  },
  {
   "cell_type": "code",
   "execution_count": 59,
   "id": "17072a7d-967b-4132-b844-df8bfcabace0",
   "metadata": {},
   "outputs": [],
   "source": [
    "from src.data_utils import transform_ts_data_info_features_and_target\n",
    "\n",
    "features, targets = transform_ts_data_info_features_and_target(ts_data, window_size=24*28, step_size=12)"
   ]
  },
  {
   "cell_type": "code",
   "execution_count": null,
   "id": "29507900-ce13-4ae1-80e0-1b537ab9f19a",
   "metadata": {},
   "outputs": [],
   "source": [
    "# tabular_data = features\n",
    "# tabular_data[\"target\"] = targets\n",
    "\n",
    "# from src.config import TRANSFORMED_DATA_DIR\n",
    "# tabular_data.to_parquet(TRANSFORMED_DATA_DIR / \"tabular_data.parquet\", engine=\"pyarrow\")"
   ]
  },
  {
   "cell_type": "code",
   "execution_count": 43,
   "id": "95b2fc35",
   "metadata": {},
   "outputs": [
    {
     "data": {
      "text/html": [
       "<div>\n",
       "<style scoped>\n",
       "    .dataframe tbody tr th:only-of-type {\n",
       "        vertical-align: middle;\n",
       "    }\n",
       "\n",
       "    .dataframe tbody tr th {\n",
       "        vertical-align: top;\n",
       "    }\n",
       "\n",
       "    .dataframe thead th {\n",
       "        text-align: right;\n",
       "    }\n",
       "</style>\n",
       "<table border=\"1\" class=\"dataframe\">\n",
       "  <thead>\n",
       "    <tr style=\"text-align: right;\">\n",
       "      <th></th>\n",
       "      <th>rides_t-672</th>\n",
       "      <th>rides_t-671</th>\n",
       "      <th>rides_t-670</th>\n",
       "      <th>rides_t-669</th>\n",
       "      <th>rides_t-668</th>\n",
       "      <th>rides_t-667</th>\n",
       "      <th>rides_t-666</th>\n",
       "      <th>rides_t-665</th>\n",
       "      <th>rides_t-664</th>\n",
       "      <th>rides_t-663</th>\n",
       "      <th>...</th>\n",
       "      <th>rides_t-7</th>\n",
       "      <th>rides_t-6</th>\n",
       "      <th>rides_t-5</th>\n",
       "      <th>rides_t-4</th>\n",
       "      <th>rides_t-3</th>\n",
       "      <th>rides_t-2</th>\n",
       "      <th>rides_t-1</th>\n",
       "      <th>pickup_hour</th>\n",
       "      <th>pickup_location_id</th>\n",
       "      <th>target</th>\n",
       "    </tr>\n",
       "  </thead>\n",
       "  <tbody>\n",
       "    <tr>\n",
       "      <th>0</th>\n",
       "      <td>1</td>\n",
       "      <td>7</td>\n",
       "      <td>2</td>\n",
       "      <td>3</td>\n",
       "      <td>1</td>\n",
       "      <td>0</td>\n",
       "      <td>1</td>\n",
       "      <td>0</td>\n",
       "      <td>1</td>\n",
       "      <td>0</td>\n",
       "      <td>...</td>\n",
       "      <td>5</td>\n",
       "      <td>12</td>\n",
       "      <td>4</td>\n",
       "      <td>1</td>\n",
       "      <td>6</td>\n",
       "      <td>7</td>\n",
       "      <td>2</td>\n",
       "      <td>2023-01-29 01:00:00</td>\n",
       "      <td>JC115</td>\n",
       "      <td>3</td>\n",
       "    </tr>\n",
       "    <tr>\n",
       "      <th>1</th>\n",
       "      <td>4</td>\n",
       "      <td>4</td>\n",
       "      <td>8</td>\n",
       "      <td>6</td>\n",
       "      <td>5</td>\n",
       "      <td>11</td>\n",
       "      <td>7</td>\n",
       "      <td>2</td>\n",
       "      <td>5</td>\n",
       "      <td>2</td>\n",
       "      <td>...</td>\n",
       "      <td>0</td>\n",
       "      <td>3</td>\n",
       "      <td>1</td>\n",
       "      <td>4</td>\n",
       "      <td>2</td>\n",
       "      <td>7</td>\n",
       "      <td>4</td>\n",
       "      <td>2023-01-29 13:00:00</td>\n",
       "      <td>JC115</td>\n",
       "      <td>4</td>\n",
       "    </tr>\n",
       "    <tr>\n",
       "      <th>2</th>\n",
       "      <td>1</td>\n",
       "      <td>1</td>\n",
       "      <td>0</td>\n",
       "      <td>0</td>\n",
       "      <td>0</td>\n",
       "      <td>0</td>\n",
       "      <td>0</td>\n",
       "      <td>2</td>\n",
       "      <td>0</td>\n",
       "      <td>3</td>\n",
       "      <td>...</td>\n",
       "      <td>5</td>\n",
       "      <td>5</td>\n",
       "      <td>9</td>\n",
       "      <td>5</td>\n",
       "      <td>3</td>\n",
       "      <td>2</td>\n",
       "      <td>0</td>\n",
       "      <td>2023-01-30 01:00:00</td>\n",
       "      <td>JC115</td>\n",
       "      <td>0</td>\n",
       "    </tr>\n",
       "    <tr>\n",
       "      <th>3</th>\n",
       "      <td>3</td>\n",
       "      <td>7</td>\n",
       "      <td>6</td>\n",
       "      <td>12</td>\n",
       "      <td>8</td>\n",
       "      <td>3</td>\n",
       "      <td>3</td>\n",
       "      <td>3</td>\n",
       "      <td>4</td>\n",
       "      <td>1</td>\n",
       "      <td>...</td>\n",
       "      <td>4</td>\n",
       "      <td>3</td>\n",
       "      <td>7</td>\n",
       "      <td>2</td>\n",
       "      <td>3</td>\n",
       "      <td>1</td>\n",
       "      <td>1</td>\n",
       "      <td>2023-01-30 13:00:00</td>\n",
       "      <td>JC115</td>\n",
       "      <td>2</td>\n",
       "    </tr>\n",
       "    <tr>\n",
       "      <th>4</th>\n",
       "      <td>0</td>\n",
       "      <td>0</td>\n",
       "      <td>0</td>\n",
       "      <td>0</td>\n",
       "      <td>2</td>\n",
       "      <td>0</td>\n",
       "      <td>3</td>\n",
       "      <td>2</td>\n",
       "      <td>3</td>\n",
       "      <td>1</td>\n",
       "      <td>...</td>\n",
       "      <td>25</td>\n",
       "      <td>14</td>\n",
       "      <td>5</td>\n",
       "      <td>7</td>\n",
       "      <td>0</td>\n",
       "      <td>1</td>\n",
       "      <td>1</td>\n",
       "      <td>2023-01-31 01:00:00</td>\n",
       "      <td>JC115</td>\n",
       "      <td>1</td>\n",
       "    </tr>\n",
       "  </tbody>\n",
       "</table>\n",
       "<p>5 rows × 675 columns</p>\n",
       "</div>"
      ],
      "text/plain": [
       "   rides_t-672  rides_t-671  rides_t-670  rides_t-669  rides_t-668  \\\n",
       "0            1            7            2            3            1   \n",
       "1            4            4            8            6            5   \n",
       "2            1            1            0            0            0   \n",
       "3            3            7            6           12            8   \n",
       "4            0            0            0            0            2   \n",
       "\n",
       "   rides_t-667  rides_t-666  rides_t-665  rides_t-664  rides_t-663  ...  \\\n",
       "0            0            1            0            1            0  ...   \n",
       "1           11            7            2            5            2  ...   \n",
       "2            0            0            2            0            3  ...   \n",
       "3            3            3            3            4            1  ...   \n",
       "4            0            3            2            3            1  ...   \n",
       "\n",
       "   rides_t-7  rides_t-6  rides_t-5  rides_t-4  rides_t-3  rides_t-2  \\\n",
       "0          5         12          4          1          6          7   \n",
       "1          0          3          1          4          2          7   \n",
       "2          5          5          9          5          3          2   \n",
       "3          4          3          7          2          3          1   \n",
       "4         25         14          5          7          0          1   \n",
       "\n",
       "   rides_t-1         pickup_hour  pickup_location_id  target  \n",
       "0          2 2023-01-29 01:00:00               JC115       3  \n",
       "1          4 2023-01-29 13:00:00               JC115       4  \n",
       "2          0 2023-01-30 01:00:00               JC115       0  \n",
       "3          1 2023-01-30 13:00:00               JC115       2  \n",
       "4          1 2023-01-31 01:00:00               JC115       1  \n",
       "\n",
       "[5 rows x 675 columns]"
      ]
     },
     "execution_count": 43,
     "metadata": {},
     "output_type": "execute_result"
    }
   ],
   "source": [
    "# Combine all top 3 datasets\n",
    "tabular_data = pd.concat(all_tabular, ignore_index=True)\n",
    "\n",
    "# Save to Parquet\n",
    "from src.config import TRANSFORMED_DATA_DIR\n",
    "tabular_data.to_parquet(TRANSFORMED_DATA_DIR / \"tabular_data_top3.parquet\", engine=\"pyarrow\")\n",
    "\n",
    "# Preview\n",
    "tabular_data.head()\n"
   ]
  }
 ],
 "metadata": {
  "kernelspec": {
   "display_name": "Python (py311_env)",
   "language": "python",
   "name": "py311_env"
  },
  "language_info": {
   "codemirror_mode": {
    "name": "ipython",
    "version": 3
   },
   "file_extension": ".py",
   "mimetype": "text/x-python",
   "name": "python",
   "nbconvert_exporter": "python",
   "pygments_lexer": "ipython3",
   "version": "3.11.8"
  }
 },
 "nbformat": 4,
 "nbformat_minor": 5
}
